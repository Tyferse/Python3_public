{
 "cells": [
  {
   "cell_type": "markdown",
   "metadata": {},
   "source": [
    "# Pygame 2"
   ]
  },
  {
   "cell_type": "markdown",
   "metadata": {},
   "source": [
    "### Изображения"
   ]
  },
  {
   "cell_type": "code",
   "execution_count": null,
   "metadata": {},
   "outputs": [],
   "source": [
    "# Для работы с изображениями существует модуль image https://www.pygame.org/docs/ref/image.html\n",
    "# Сами изображения являются не отдельным классом, а представлены как Surface\n",
    "# Пример ниже создает холст с изображением. \n",
    "image = pygame.image.load(\"picture_name\")"
   ]
  },
  {
   "cell_type": "code",
   "execution_count": null,
   "metadata": {},
   "outputs": [],
   "source": [
    "def load_image(name, color_key=None):\n",
    "    fullname = os.path.join('data', name)\n",
    "    try:\n",
    "        image = pygame.image.load(fullname).convert()\n",
    "    except pygame.error as message:\n",
    "        print('Cannot load image:', name)\n",
    "        raise SystemExit(message)\n",
    "\n",
    "    if color_key is not None:\n",
    "        if color_key == -1:\n",
    "            color_key = image.get_at((0, 0))\n",
    "        image.set_colorkey(color_key)\n",
    "    else:\n",
    "        image = image.convert_alpha()\n",
    "    return image"
   ]
  },
  {
   "cell_type": "code",
   "execution_count": null,
   "metadata": {},
   "outputs": [],
   "source": [
    "image = pygame.transform.scale(image, (200, 100))\n",
    "# Изображение можно масштабировать\n",
    "# Подробнее о данном модуле можно прочитать в документации https://www.pygame.org/docs/ref/transform.html"
   ]
  },
  {
   "cell_type": "markdown",
   "metadata": {},
   "source": [
    "### Спрайты, анимация спрайтов"
   ]
  },
  {
   "cell_type": "code",
   "execution_count": null,
   "metadata": {},
   "outputs": [],
   "source": [
    "# Спрайт - произвольный игровой графический объект \n",
    "# Необходимые параметры - image и rect, где image - Surface, a rect - прямоугольний, ограничивающий загруженное изображение\n",
    "# Для работы со спрайтами существует специальный объект sprite (https://www.pygame.org/docs/ref/sprite.html)\n",
    "# Особенность работы со спрайтами в том, что у них нет функции draw\n",
    "# для того, чтобы их отрисовать их нужно объединить в группу спрайтов и вызвать у группы метод draw\n",
    "\n",
    "# создадим группу, содержащую все спрайты\n",
    "all_sprites = pygame.sprite.Group()\n",
    "# создадим спрайт\n",
    "sprite = pygame.sprite.Sprite()\n",
    "# определим его вид\n",
    "sprite.image = load_image(\"star.png\")\n",
    "# и размеры\n",
    "sprite.rect = sprite.image.get_rect()\n",
    "# добавим спрайт в группу\n",
    "all_sprites.add(sprite)\n",
    "sprite.rect.x = 5\n",
    "sprite.rect.y = 20\n",
    "\n",
    "# в главном игровом цикле\n",
    "all_sprites.draw(screen)"
   ]
  },
  {
   "cell_type": "code",
   "execution_count": null,
   "metadata": {},
   "outputs": [],
   "source": [
    "# Как видно из примера, работать со спрайтами таким образом не совсем удобно\n",
    "# Работа станет значительно проще, если создать отдельный класс для графического объета и унаследовать его от спрайта\n",
    "class Star(pg.sprite.Sprite):\n",
    "\n",
    "    def __init__(self, *group):\n",
    "        super().__init__(*group)\n",
    "\n",
    "        self.len = randint(1, 6)\n",
    "\n",
    "        self.image = pg.Surface((self.len, self.len))\n",
    "        pg.draw.circle(self.image, (200, 200, 200), (self.len // 2, self.len // 2), self.len // 2)\n",
    "\n",
    "        self.rect = self.image.get_rect()\n",
    "        self.x = self.rect.x = randrange(width)\n",
    "        self.y = self.rect.y = randrange(height)\n",
    "\n",
    "    def update(self):\n",
    "        self.x += 0.1 * (self.len // 2)\n",
    "        self.y += 0.05\n",
    "        self.rect.x = self.x % width\n",
    "        self.rect.y = self.y % height"
   ]
  },
  {
   "cell_type": "code",
   "execution_count": null,
   "metadata": {},
   "outputs": [],
   "source": [
    "# Инициализация до игрового цикла\n",
    "all_sprites = pg.sprite.Group()\n",
    "for _ in range(70):\n",
    "    Star(all_sprites)\n",
    "    \n",
    "# Отрисовка в игровом цикле\n",
    "all_sprites.draw(screen)\n",
    "all_sprites.update()"
   ]
  },
  {
   "cell_type": "markdown",
   "metadata": {},
   "source": [
    "<img src=\"https://i.ibb.co/x7fjSRV/1.gif\" width=\"450px\">"
   ]
  },
  {
   "cell_type": "code",
   "execution_count": null,
   "metadata": {},
   "outputs": [],
   "source": [
    "# Взаимодействовать со спрайтами удобнее через метод update и передавать в него события, нежели по событию переберать все спрайты\n",
    "\n",
    "def update(self, *args):\n",
    "    self.x += 0.1 * (self.len // 2)\n",
    "    self.y += 0.05\n",
    "    self.rect.x = self.x % width\n",
    "    self.rect.y = self.y % height\n",
    "\n",
    "    if args and args[0].type == pg.MOUSEMOTION and self.rect.collidepoint(args[0].pos):\n",
    "        pg.draw.circle(self.image, pg.Color('yellow'), (self.len // 2, self.len // 2), self.len // 2)"
   ]
  },
  {
   "cell_type": "markdown",
   "metadata": {},
   "source": [
    "### Анимация спрайтов"
   ]
  },
  {
   "cell_type": "code",
   "execution_count": null,
   "metadata": {},
   "outputs": [],
   "source": [
    "# Для реализации анимации наследуются также от класса sprite\n",
    "# Идея заключается в том, что в классе хранятся кадры с изображениями и последовательно меняются при взаимодействии\n",
    "# Спрайты, как правило, хранятся листами, совмещающие в себе несколько последовательных изображений.\n",
    "\n",
    "class AnimatedSprite(pygame.sprite.Sprite):\n",
    "    def __init__(self, sheet, columns, rows, x, y):\n",
    "        super().__init__(all_sprites)\n",
    "        self.frames = []\n",
    "        self.cut_sheet(sheet, columns, rows)\n",
    "        self.cur_frame = 0\n",
    "        self.image = self.frames[self.cur_frame]\n",
    "        self.rect = self.rect.move(x, y)\n",
    "\n",
    "    def cut_sheet(self, sheet, columns, rows):\n",
    "        self.rect = pygame.Rect(0, 0, sheet.get_width() // columns, \n",
    "                                sheet.get_height() // rows)\n",
    "        for j in range(rows):\n",
    "            for i in range(columns):\n",
    "                frame_location = (self.rect.w * i, self.rect.h * j)\n",
    "                self.frames.append(sheet.subsurface(pygame.Rect(\n",
    "                    frame_location, self.rect.size)))\n",
    "\n",
    "    def update(self):\n",
    "        self.cur_frame = (self.cur_frame + 1) % len(self.frames)\n",
    "        self.image = self.frames[self.cur_frame]\n",
    "        \n",
    "# Для того, чтобы анимация работала независимо от игрового времени и не не тормозила всю игру\n",
    "# можно ввести в классе счетчик итераций и менять изображение, скажем, каждую пятую итерацию."
   ]
  },
  {
   "cell_type": "markdown",
   "metadata": {},
   "source": [
    "<img src=\"https://i.ibb.co/9cbSnDg/pygame-8-1.png\" width=\"650px\">\n",
    "<img src=\"https://i.ibb.co/RpWHsNG/pygame-8-2.gif\" width=\"150px\">"
   ]
  },
  {
   "cell_type": "markdown",
   "metadata": {},
   "source": [
    "### Столкновения"
   ]
  },
  {
   "cell_type": "code",
   "execution_count": null,
   "metadata": {},
   "outputs": [],
   "source": [
    "# Проверить спрайты на столкновение можно двумя способами:\n",
    "# 1. По ограничивающему прямоугольнику (метод collide_rect())\n",
    "# 2. По ограничивающей окружности (метод collide_circle())\n",
    "# В оба метода передаются спрайты, результат - True либо False\n",
    "\n",
    "# Более общий случай - столкновение группы спрайтов\n",
    "# Реализация проверки - в методе update каждый спрайт будет сравниваться с какой-либо группой\n",
    "# Рассмотрим на примере столкновения шаров со стенками\n",
    "# Для этого создадим класс для шара и стенки\n",
    "\n",
    "class Ball(pygame.sprite.Sprite):\n",
    "    def __init__(self, radius, x, y):\n",
    "        super().__init__(all_sprites)\n",
    "        self.radius = radius\n",
    "        self.image = pygame.Surface((2 * radius, 2 * radius),\n",
    "                                    pygame.SRCALPHA, 32)\n",
    "        pygame.draw.circle(self.image, pygame.Color(\"red\"),\n",
    "                           (radius, radius), radius)\n",
    "        self.rect = pygame.Rect(x, y, 2 * radius, 2 * radius)\n",
    "        self.vx = random.randint(-5, 5)\n",
    "        self.vy = random.randrange(-5, 5)\n",
    "\n",
    "    def update(self):\n",
    "        self.rect = self.rect.move(self.vx, self.vy)\n",
    "        if pygame.sprite.spritecollideany(self, horizontal_borders):\n",
    "            self.vy = -self.vy\n",
    "        if pygame.sprite.spritecollideany(self, vertical_borders):\n",
    "            self.vx = -self.vx\n",
    "            \n",
    "# Функция spritecollideany() возвращает спрайт из группы, с которым произошло столкновение или None, \n",
    "# если столкновение не обнаружено.\n",
    "# Другая функция, spritecollide(), принимает в качестве аргументов так же спрайт и группу — возвращает список \n",
    "# спрайтов из группы, с которыми произошло пересечение. \n",
    "# Третьим параметром можно передать логическое значение True, и тогда все спрайты, с которыми есть пересечение, \n",
    "# будут уничтожены и убраны из группы.\n",
    "        \n",
    "horizontal_borders = pygame.sprite.Group()\n",
    "vertical_borders = pygame.sprite.Group()\n",
    "class Border(pygame.sprite.Sprite):\n",
    "    # строго вертикальный или строго горизонтальный отрезок\n",
    "    def __init__(self, x1, y1, x2, y2):\n",
    "        super().__init__(all_sprites)\n",
    "        if x1 == x2:  # вертикальная стенка\n",
    "            self.add(vertical_borders)\n",
    "            self.image = pygame.Surface([1, y2 - y1])\n",
    "            self.rect = pygame.Rect(x1, y1, 1, y2 - y1)\n",
    "        else:  # горизонтальная стенка\n",
    "            self.add(horizontal_borders)\n",
    "            self.image = pygame.Surface([x2 - x1, 1])\n",
    "            self.rect = pygame.Rect(x1, y1, x2 - x1, 1)\n"
   ]
  },
  {
   "cell_type": "code",
   "execution_count": null,
   "metadata": {},
   "outputs": [],
   "source": [
    "Border(5, 5, width - 5, 5)\n",
    "Border(5, height - 5, width - 5, height - 5)\n",
    "Border(5, 5, 5, height - 5)\n",
    "Border(width - 5, 5, width - 5, height - 5)\n",
    "\n",
    "for i in range(10):\n",
    "    Ball(20, 100, 100)"
   ]
  },
  {
   "cell_type": "markdown",
   "metadata": {},
   "source": [
    "<img src=\"https://i.ibb.co/0cjXw1C/2021-07-22-17-09-41.gif\" width=\"300px\">"
   ]
  },
  {
   "cell_type": "code",
   "execution_count": null,
   "metadata": {},
   "outputs": [],
   "source": [
    "# Пересечение со сложными объектами сравниваются по маске с помощью метода pygame.sprite.collide_mask()\n",
    "# Для этого необходимо в конструкторе класса вычислить маску \n",
    "# Пр. self.mask = pygame.mask.from_surface(self.image)"
   ]
  },
  {
   "cell_type": "markdown",
   "metadata": {},
   "source": [
    "### Заставка и экран конца игры"
   ]
  },
  {
   "cell_type": "code",
   "execution_count": null,
   "metadata": {},
   "outputs": [],
   "source": [
    "# В большинстве случаев, заставка и экран конца игры это еще один игровой цикл, реализованный как отдельная функция\n",
    "def terminate():\n",
    "    pygame.quit()\n",
    "    sys.exit()\n",
    "\n",
    "def start_screen():\n",
    "    intro_text = [\"ЗАСТАВКА\", \"\",\n",
    "                  \"Правила игры\",\n",
    "                  \"Если в правилах несколько строк,\",\n",
    "                  \"приходится выводить их построчно\"]\n",
    "\n",
    "    fon = pygame.transform.scale(load_image('fon.jpg'), (WIDTH, HEIGHT))\n",
    "    screen.blit(fon, (0, 0))\n",
    "    font = pygame.font.Font(None, 30)\n",
    "    text_coord = 50\n",
    "    for line in intro_text:\n",
    "        string_rendered = font.render(line, 1, pygame.Color('white'))\n",
    "        intro_rect = string_rendered.get_rect()\n",
    "        text_coord += 10\n",
    "        intro_rect.top = text_coord\n",
    "        intro_rect.x = 10\n",
    "        text_coord += intro_rect.height\n",
    "        screen.blit(string_rendered, intro_rect)\n",
    "\n",
    "    while True:\n",
    "        for event in pygame.event.get():\n",
    "            if event.type == pygame.QUIT:\n",
    "                terminate()\n",
    "            elif event.type == pygame.KEYDOWN or \\\n",
    "                    event.type == pygame.MOUSEBUTTONDOWN:\n",
    "                return  # начинаем игру\n",
    "        pygame.display.flip()\n",
    "        clock.tick(FPS)"
   ]
  },
  {
   "cell_type": "markdown",
   "metadata": {},
   "source": [
    "### Уровни игры"
   ]
  },
  {
   "cell_type": "code",
   "execution_count": null,
   "metadata": {},
   "outputs": [],
   "source": [
    "# Уровни в игре удобно хранить в текстовых файлах. Так их очень удобно редактировать. "
   ]
  },
  {
   "cell_type": "markdown",
   "metadata": {},
   "source": [
    "...###\n",
    "..##.#.####\n",
    ".##..###..#\n",
    "##........#\n",
    "#...@..#..#\n",
    "###..###..#\n",
    "..#..#....#\n",
    ".##.##.#.##\n",
    ".#......##\n",
    ".#.....##\n",
    ".#######"
   ]
  },
  {
   "cell_type": "code",
   "execution_count": null,
   "metadata": {},
   "outputs": [],
   "source": [
    "def load_level(filename):\n",
    "    filename = \"data/\" + filename\n",
    "    # читаем уровень, убирая символы перевода строки\n",
    "    with open(filename, 'r') as mapFile:\n",
    "        level_map = [line.strip() for line in mapFile]\n",
    "\n",
    "    # и подсчитываем максимальную длину    \n",
    "    max_width = max(map(len, level_map))\n",
    "\n",
    "    # дополняем каждую строку пустыми клетками ('.')    \n",
    "    return list(map(lambda x: x.ljust(max_width, '.'), level_map))\n"
   ]
  },
  {
   "cell_type": "code",
   "execution_count": null,
   "metadata": {},
   "outputs": [],
   "source": [
    "# Перед отрисовкой уровня создадим классы клеток на доске\n",
    "# Статичные клетки для удобства поместим в словарь\n",
    "\n",
    "tile_images = {\n",
    "    'wall': load_image('box.png'),\n",
    "    'empty': load_image('grass.png')\n",
    "}\n",
    "player_image = load_image('mario.png')\n",
    "\n",
    "tile_width = tile_height = 50\n",
    "\n",
    "\n",
    "class Tile(pygame.sprite.Sprite):\n",
    "    def __init__(self, tile_type, pos_x, pos_y):\n",
    "        super().__init__(tiles_group, all_sprites)\n",
    "        self.image = tile_images[tile_type]\n",
    "        self.rect = self.image.get_rect().move(\n",
    "            tile_width * pos_x, tile_height * pos_y)\n",
    "\n",
    "\n",
    "class Player(pygame.sprite.Sprite):\n",
    "    def __init__(self, pos_x, pos_y):\n",
    "        super().__init__(player_group, all_sprites)\n",
    "        self.image = player_image\n",
    "        self.rect = self.image.get_rect().move(\n",
    "            tile_width * pos_x + 15, tile_height * pos_y + 5)"
   ]
  },
  {
   "cell_type": "code",
   "execution_count": null,
   "metadata": {},
   "outputs": [],
   "source": [
    "# основной персонаж\n",
    "player = None\n",
    "\n",
    "# группы спрайтов\n",
    "all_sprites = pygame.sprite.Group()\n",
    "tiles_group = pygame.sprite.Group()\n",
    "player_group = pygame.sprite.Group()\n",
    "\n",
    "def generate_level(level):\n",
    "    new_player, x, y = None, None, None\n",
    "    for y in range(len(level)):\n",
    "        for x in range(len(level[y])):\n",
    "            if level[y][x] == '.':\n",
    "                Tile('empty', x, y)\n",
    "            elif level[y][x] == '#':\n",
    "                Tile('wall', x, y)\n",
    "            elif level[y][x] == '@':\n",
    "                Tile('empty', x, y)\n",
    "                new_player = Player(x, y)\n",
    "    # вернем игрока, а также размер поля в клетках            \n",
    "    return new_player, x, y\n",
    "\n",
    "# Теперь для загрузки и отрисовки достаточно выполнить \n",
    "player, level_x, level_y = generate_level(load_level('map.txt'))"
   ]
  },
  {
   "cell_type": "markdown",
   "metadata": {},
   "source": [
    "<img src=\"https://i.ibb.co/C2k0nst/2021-07-23-10-00-26.png\" width=\"500px\">"
   ]
  },
  {
   "cell_type": "code",
   "execution_count": null,
   "metadata": {},
   "outputs": [],
   "source": []
  }
 ],
 "metadata": {
  "kernelspec": {
   "display_name": "Python 3",
   "language": "python",
   "name": "python3"
  },
  "language_info": {
   "codemirror_mode": {
    "name": "ipython",
    "version": 3
   },
   "file_extension": ".py",
   "mimetype": "text/x-python",
   "name": "python",
   "nbconvert_exporter": "python",
   "pygments_lexer": "ipython3",
   "version": "3.6.2"
  }
 },
 "nbformat": 4,
 "nbformat_minor": 2
}
