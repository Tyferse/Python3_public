{
 "cells": [
  {
   "cell_type": "markdown",
   "metadata": {},
   "source": [
    "# Pygame"
   ]
  },
  {
   "cell_type": "markdown",
   "metadata": {},
   "source": [
    "```\n",
    "pip install pygame\n",
    "```\n",
    "https://www.pygame.org/"
   ]
  },
  {
   "cell_type": "code",
   "execution_count": null,
   "metadata": {},
   "outputs": [],
   "source": [
    "import pygame as pg\n",
    "# инициализация Pygame\n",
    "pg.init()\n",
    "# размеры окна\n",
    "size = width, height = 400, 300\n",
    "# screen — холст, на котором рисуем\n",
    "screen = pg.display.set_mode(size)\n",
    "\n",
    "pg.draw.circle(screen, pg.color.Color('red'), (width // 2, height // 2), 20)\n",
    "# отрисовка кадра\n",
    "pg.display.flip()\n",
    "# ожидание закрытия окна\n",
    "while pg.event.wait().type != pg.QUIT:\n",
    "    pass\n",
    "# завершение работы\n",
    "pg.quit()"
   ]
  },
  {
   "cell_type": "markdown",
   "metadata": {},
   "source": [
    "<img src=\"https://i.ibb.co/Qd10Mk1/9.png\" width='400px'>"
   ]
  },
  {
   "cell_type": "code",
   "execution_count": null,
   "metadata": {},
   "outputs": [],
   "source": [
    "import pygame\n",
    "\n",
    "size = width, height = (400, 300)\n",
    "screen = pygame.display.set_mode(size)\n",
    "pygame.init()\n",
    "\n",
    "\n",
    "def draw():\n",
    "    screen.fill((0, 0, 0))\n",
    "    font = pygame.font.Font(None, 50)\n",
    "    text = font.render(\"Hello, world!\", 1, (0, 191, 255))\n",
    "    text_x = width // 2 - text.get_width() // 2\n",
    "    text_y = height // 2 - text.get_height() // 2\n",
    "    text_w = text.get_width()\n",
    "    text_h = text.get_height()\n",
    "    screen.blit(text, (text_x, text_y))\n",
    "    pygame.draw.rect(screen, (0, 191, 255),\n",
    "                     (text_x - 10, text_y - 10, text_w + 20, text_h + 20), 1)\n",
    "\n",
    "\n",
    "draw()\n",
    "\n",
    "while pygame.event.wait().type != pygame.QUIT:\n",
    "    pygame.display.flip()\n",
    "\n",
    "pygame.quit()"
   ]
  },
  {
   "cell_type": "markdown",
   "metadata": {},
   "source": [
    "<img src=\"https://i.ibb.co/sgBdt3P/22.png\" width='400px'>"
   ]
  },
  {
   "cell_type": "markdown",
   "metadata": {},
   "source": [
    "#### Цвета\n",
    "Цвета в pygame – это объекты типа Color."
   ]
  },
  {
   "cell_type": "code",
   "execution_count": null,
   "metadata": {},
   "outputs": [],
   "source": [
    "# Цвета в pygame – это объекты типа Color.\n",
    "# Color(name)       # строкой, например, \"yellow\"\n",
    "# Color(r, g, b, a) # красный, зеленый, синий и прозрачность\n",
    "# Color(rgbvalue)\n",
    "lightred = pygame.Color(255, 255, 100)\n",
    "darkgreen = pygame.Color('#008000')\n",
    "yellow = pygame.Color('yellow')"
   ]
  },
  {
   "cell_type": "code",
   "execution_count": 2,
   "metadata": {},
   "outputs": [],
   "source": [
    "# кроме модели RGB существует поддержка и других моделей, как например HSV (Hue, Saturation, Value — тон, насыщенность, значение)\n",
    "# Возможные значения -  H = [0, 360], S = [0, 100], V = [0, 100]. \n",
    "# координаты считаюбтся, как и в PyQT, с левого вехрнего угла (ось Y направлена вниз)\n",
    "def draw_square():\n",
    "    color = pygame.Color(200, 200, 200)\n",
    "    # рисуем \"тень\"\n",
    "    pygame.draw.rect(screen, color,\n",
    "                     (width // 2 - 50, height // 2 - 50, 100, 100), 0)\n",
    "    hsv = color.hsva\n",
    "    # увеличиваем параметр Value, который влияет на яркость\n",
    "    color.hsva = (hsv[0], hsv[1], hsv[2] + 20, hsv[3])\n",
    "    # рисуем сам объект\n",
    "    pygame.draw.rect(screen, color, (width  // 2 - 60, height // 2 - 60, 100, 100), 0)"
   ]
  },
  {
   "cell_type": "markdown",
   "metadata": {},
   "source": [
    "<img src=\"https://i.ibb.co/SJBVvTY/33.png\" width=\"400px\">"
   ]
  },
  {
   "cell_type": "code",
   "execution_count": null,
   "metadata": {},
   "outputs": [],
   "source": [
    "# Как можно было заметить, рисование производится на объекте типа Surface (холст, поверхность).\n",
    "# Объект этого класса возвращает метод set_mode() модуля  display.\n",
    "screen = pg.display.set_mode(size) # screen – объект типа Surface\n",
    "# у этого объекта есть полезный метод fill, который заполняет экран (или его часть) указанным цветом.\n",
    "screen.fill((255, 255, 255)) # белый экран\n",
    "# Кроме того, можно передать в него прямоугольник, к этом случае закрашен будет только он\n",
    "screen.fill(pygame.Color('red'), pygame.Rect(10, 10, 60, 60))\n",
    "# Rect - класс, который описывает прямоугольник в pygame.\n",
    "Rect(left, top, width, height)\n",
    "Rect((left, top), (width, height))\n",
    "Rect(rect)\n",
    "# кроме того, в местах, где требуется прямоугольник можно передать картеж без объявления класса\n",
    "screen.fill(pygame.Color('red'), (10, 10, 60, 60))"
   ]
  },
  {
   "cell_type": "markdown",
   "metadata": {},
   "source": [
    "#### Рисование"
   ]
  },
  {
   "cell_type": "code",
   "execution_count": null,
   "metadata": {},
   "outputs": [],
   "source": [
    "# Основные функции для рисования расположены в модуле draw\n",
    "# как правило, всем им передается холст, цвет, координаты и толщина.\n",
    "# если толщина не задана, то фигура заливается полностью цветом\n",
    "# line(Surface, color, start_pos, end_pos, width=1)\n",
    "# подробнее о модулях тут -> https://www.pygame.org/docs/ref/draw.html"
   ]
  },
  {
   "cell_type": "markdown",
   "metadata": {},
   "source": [
    "### Время"
   ]
  },
  {
   "cell_type": "code",
   "execution_count": null,
   "metadata": {},
   "outputs": [],
   "source": [
    "running = True\n",
    "x_pos = 0\n",
    "while running:\n",
    "    # внутри игрового цикла ещё один цикл\n",
    "    # приема и обработки сообщений\n",
    "    for event in pygame.event.get():\n",
    "        if event.type == pygame.QUIT:\n",
    "            running = False\n",
    "    screen.fill((0, 0, 0))\n",
    "    pygame.draw.circle(screen, (255, 0, 0), (x_pos, 200), 20)\n",
    "    x_pos += 1\n",
    "  \n",
    "    pygame.display.flip()"
   ]
  },
  {
   "cell_type": "markdown",
   "metadata": {},
   "source": [
    "<img src=\"https://i.ibb.co/WcwvL99/4.gif\" width=\"300px\">"
   ]
  },
  {
   "cell_type": "code",
   "execution_count": null,
   "metadata": {},
   "outputs": [],
   "source": [
    "# Для работы с временем есть класс Clock в модуле time\n",
    "# его нужно создать перед игровым циклом и вызывать метод tick внутри цикла\n",
    "# метод возвращает количесво милисикунд с прошлого вызова метода\n",
    "running = True\n",
    "x_pos = 0\n",
    "v = 20   # пикселей в секунду\n",
    "clock = pygame.time.Clock()\n",
    "while running:\n",
    "    for event in pygame.event.get():\n",
    "        if event.type == pygame.QUIT:\n",
    "            running = False\n",
    "    screen.fill((0, 0, 0))\n",
    "    pygame.draw.circle(screen, (255, 0, 0), (int(x_pos), 200), 20)\n",
    "    x_pos += v * clock.tick() / 1000 # v * t в секундах\n",
    "    pygame.display.flip()"
   ]
  },
  {
   "cell_type": "code",
   "execution_count": null,
   "metadata": {},
   "outputs": [],
   "source": [
    "# Еще проще – передавать в метод tick кол-во кадров секунду, метод менее точный но более удобный\n",
    "# В этом случае метод tick будет задерживать выполнение программы , чтобы количество кадров было не больше переданного значения\n",
    "x = 0\n",
    "v = 20  # пикселей в секунду\n",
    "fps = 60\n",
    "clock = pygame.time.Clock()\n",
    "while running:\n",
    "    for event in pygame.event.get():\n",
    "        if event.type == pygame.QUIT:\n",
    "            running = False\n",
    "    screen.fill((0, 0, 0))\n",
    "    pygame.draw.circle(screen, (255, 0, 0), (int(x), 200), 20)\n",
    "    x += v / fps \n",
    "    clock.tick(fps)\n",
    "    pygame.display.flip()"
   ]
  },
  {
   "cell_type": "markdown",
   "metadata": {},
   "source": [
    "### События"
   ]
  },
  {
   "cell_type": "code",
   "execution_count": 6,
   "metadata": {},
   "outputs": [],
   "source": [
    "# Чтобы получить информацию о том, что была нажата клавиша мыши или клавиатуры, можно обратиться к специальным объектам\n",
    "# mouse и keyboard. Но узнать, что мы нажали кнопку, можно только в тот момент, когда мы обратились к этому методу. \n",
    "# Но куда удобнее знать, что она была нажата, чем проверять нажалась она или нет. \n",
    "# На протяжении игры происходят различные события, список произошедших событий можно получить \n",
    "# с помощью метода get в модуле event.\n",
    "# Кождое событие содержит тип и параметры."
   ]
  },
  {
   "cell_type": "markdown",
   "metadata": {},
   "source": [
    "Список основных событий: \n",
    "<pre>\n",
    "QUIT              none \n",
    "ACTIVEEVENT       gain, state\n",
    "KEYDOWN           key, mod, unicode, scancode\n",
    "KEYUP             key, mod\n",
    "MOUSEMOTION       pos, rel, buttons\n",
    "MOUSEBUTTONUP     pos, button\n",
    "MOUSEBUTTONDOWN   pos, button\n",
    "</pre>\n",
    "подробнее тут -> https://www.pygame.org/docs/ref/event.html"
   ]
  },
  {
   "cell_type": "code",
   "execution_count": null,
   "metadata": {},
   "outputs": [],
   "source": [
    "while running:\n",
    "    screen.fill((0, 0, 0))\n",
    "    for event in pygame.event.get():\n",
    "        if event.type == pygame.QUIT:\n",
    "            running = False\n",
    "        if event.type == pygame.MOUSEMOTION:\n",
    "            pygame.draw.circle(screen, (0, 0, 255), event.pos, 20)\n",
    "    pygame.display.flip()\n",
    "    clock.tick(50)"
   ]
  },
  {
   "cell_type": "code",
   "execution_count": 7,
   "metadata": {},
   "outputs": [
    {
     "name": "stdout",
     "output_type": "stream",
     "text": [
      "pygame 1.9.6\n",
      "Hello from the pygame community. https://www.pygame.org/contribute.html\n"
     ]
    }
   ],
   "source": [
    "# Pygame поставляется с большим количеством примеров, небольших программ, иллюстрирующих ее возможности.\n",
    "# https://www.pygame.org/docs/ref/examples.html\n",
    "# Кроме того, они идут сразу с пакетом и находятся в модуле examples\n",
    "# Можно запустить программу, которая помогает разобраться с событиями\n",
    "import pygame.examples.eventlist\n",
    "pygame.examples.eventlist.main()"
   ]
  },
  {
   "cell_type": "markdown",
   "metadata": {},
   "source": [
    "### Графический редактор"
   ]
  },
  {
   "cell_type": "code",
   "execution_count": null,
   "metadata": {},
   "outputs": [],
   "source": [
    "# очистив экран один раз мы будем рисовать на холсте без его отчищения\n",
    "screen.fill((0, 0, 0))\n",
    "while running:\n",
    "    for event in pygame.event.get():\n",
    "        if event.type == pygame.QUIT:\n",
    "            running = False\n",
    "        if event.type == pygame.MOUSEMOTION:\n",
    "            pygame.draw.circle(screen, (0, 0, 255), event.pos, 20)\n",
    "\n",
    "    pygame.display.flip()\n",
    "    \n",
    "# Вопрос, что делать когда заходится отменить нарисованное.\n",
    "# Можно пойти двумя путями: сохранять координаты объектов или рисовать на отдельном холсте, а после объединять холсты."
   ]
  },
  {
   "cell_type": "code",
   "execution_count": null,
   "metadata": {},
   "outputs": [],
   "source": [
    "# реализуем второй случай\n",
    "# 1. при нажатии на мыши будем запоминать координаты и включать режим рисования\n",
    "# 2. при движении запоминать ширину и высоту\n",
    "# 3. при отпускании кнопки копировать на основной холст и выключать режим рисования.\n",
    "\n",
    "screen2 = pygame.Surface(screen.get_size())\n",
    "x1, y1, w, h = 0, 0, 0, 0\n",
    "drawing = False  # режим рисования выключен\n",
    "while running:\n",
    "    for event in pygame.event.get():\n",
    "        if event.type == pygame.QUIT:\n",
    "            running = False\n",
    "        if event.type == pygame.MOUSEBUTTONDOWN:\n",
    "            drawing = True  # включаем режим рисования\n",
    "            # запоминаем координаты одного угла\n",
    "            x1, y1 = event.pos\n",
    "        if event.type == pygame.MOUSEBUTTONUP:\n",
    "            # сохраняем нарисованное (на втором холсте)\n",
    "            screen2.blit(screen, (0, 0))\n",
    "            drawing = False\n",
    "        if event.type == pygame.MOUSEMOTION:\n",
    "            # запоминаем текущие размеры\n",
    "            w, h = event.pos[0] - x1, event.pos[1] - y1\n",
    "    # рисуем на экране сохранённое на втором холсте\n",
    "    screen.fill(pygame.Color('black'))\n",
    "    screen.blit(screen2, (0, 0))\n",
    "    if drawing:  # и, если надо, текущий прямоугольник\n",
    "        pygame.draw.rect(screen, (0, 0, 255), ((x1, y1), (w, h)), 5)\n",
    "    pygame.display.flip()"
   ]
  },
  {
   "cell_type": "markdown",
   "metadata": {},
   "source": [
    "### Клетчатое поле"
   ]
  },
  {
   "cell_type": "code",
   "execution_count": null,
   "metadata": {},
   "outputs": [],
   "source": [
    "# Начнем с описания класса поля\n",
    "class Board:\n",
    "    # создание поля\n",
    "    def __init__(self, width, height):\n",
    "        self.width = width\n",
    "        self.height = height\n",
    "        self.board = [[0] * width for _ in range(height)]\n",
    "        # значения по умолчанию\n",
    "        self.left = 10\n",
    "        self.top = 10\n",
    "        self.cell_size = 30\n",
    "\n",
    "    # настройка внешнего вида\n",
    "    def set_view(self, left, top, cell_size):\n",
    "        self.left = left\n",
    "        self.top = top\n",
    "        self.cell_size = cell_size\n",
    "        \n",
    "    def render(screen):\n",
    "        pass"
   ]
  },
  {
   "cell_type": "code",
   "execution_count": null,
   "metadata": {},
   "outputs": [],
   "source": [
    "# необходимо дописать метод render, который должен выводить клетчатое поле \n",
    "board = Board(5, 7)\n",
    "running = True\n",
    "while running:\n",
    "    for event in pygame.event.get():\n",
    "        if event.type == pygame.QUIT:\n",
    "            running = False                \n",
    "    screen.fill((0, 0, 0))\n",
    "    board.render()\n",
    "    pygame.display.flip()\n",
    "# например, при таком вводе должно выводиться следующее"
   ]
  },
  {
   "cell_type": "markdown",
   "metadata": {},
   "source": [
    "<img src=\"https://i.ibb.co/r41vBzp/55.png\" width=\"400px\">"
   ]
  },
  {
   "cell_type": "markdown",
   "metadata": {},
   "source": [
    "#### Реакция поля на события удобно сделать по трем методам класса board\n",
    "* get_cell(self, mouse_pos) - возвращает координаты клетки картежа по переданным координатам мыши. None если координаты мыши вне поля\n",
    "* on_click(self, cell_coords) - правило, по которому будет изменено поле\n",
    "* get_click(self, mouse_pos) - метод, который вызвается по событию нажатия"
   ]
  },
  {
   "cell_type": "code",
   "execution_count": null,
   "metadata": {},
   "outputs": [],
   "source": [
    "def get_click(self, mouse_pos):\n",
    "    cell = self.get_cell(mouse_pos)\n",
    "    self.on_click(cell)\n",
    "    \n",
    "...      \n",
    "    if event.type == pygame.MOUSEBUTTONDOWN:\n",
    "        board.get_click(event.pos)\n",
    "...\n",
    "\n",
    "self.board[cell_coords[0]][cell_coords[1]] = (self.board[cell_coords[0]][cell_coords[1]] + 1) % 2"
   ]
  },
  {
   "cell_type": "markdown",
   "metadata": {},
   "source": [
    "<img src=\"https://i.ibb.co/Cm4zdRy/66.gif\" width=\"300px\">"
   ]
  },
  {
   "cell_type": "markdown",
   "metadata": {},
   "source": [
    "### Изображения и Спрайты, анимация спрайтов"
   ]
  },
  {
   "cell_type": "markdown",
   "metadata": {},
   "source": [
    "### Столкновения"
   ]
  },
  {
   "cell_type": "markdown",
   "metadata": {},
   "source": [
    "### Заставка, уровни, камера"
   ]
  },
  {
   "cell_type": "code",
   "execution_count": null,
   "metadata": {},
   "outputs": [],
   "source": []
  }
 ],
 "metadata": {
  "kernelspec": {
   "display_name": "Python 3",
   "language": "python",
   "name": "python3"
  },
  "language_info": {
   "codemirror_mode": {
    "name": "ipython",
    "version": 3
   },
   "file_extension": ".py",
   "mimetype": "text/x-python",
   "name": "python",
   "nbconvert_exporter": "python",
   "pygments_lexer": "ipython3",
   "version": "3.6.2"
  }
 },
 "nbformat": 4,
 "nbformat_minor": 2
}
